{
 "cells": [
  {
   "cell_type": "code",
   "execution_count": 1,
   "id": "57f5d0e8",
   "metadata": {},
   "outputs": [],
   "source": [
    "import pandas as pd\n",
    "import numpy as np"
   ]
  },
  {
   "cell_type": "code",
   "execution_count": 2,
   "id": "a3ce15b4",
   "metadata": {},
   "outputs": [
    {
     "name": "stdout",
     "output_type": "stream",
     "text": [
      "Defaulting to user installation because normal site-packages is not writeable\n",
      "Requirement already satisfied: pymysql in c:\\users\\rahul\\appdata\\roaming\\python\\python311\\site-packages (1.1.0)\n",
      "Note: you may need to restart the kernel to use updated packages.\n"
     ]
    }
   ],
   "source": [
    "pip install pymysql"
   ]
  },
  {
   "cell_type": "code",
   "execution_count": 3,
   "id": "d9e64bbd",
   "metadata": {},
   "outputs": [],
   "source": [
    "import pymysql as sql"
   ]
  },
  {
   "cell_type": "code",
   "execution_count": 4,
   "id": "3c2b8722",
   "metadata": {},
   "outputs": [
    {
     "name": "stderr",
     "output_type": "stream",
     "text": [
      "C:\\Users\\rahul\\AppData\\Local\\Temp\\ipykernel_34228\\2120625837.py:2: UserWarning: pandas only supports SQLAlchemy connectable (engine/connection) or database string URI or sqlite3 DBAPI2 connection. Other DBAPI2 objects are not tested. Please consider using SQLAlchemy.\n",
      "  df2=pd.read_sql_query(\"select * from empoly ;\",db)\n"
     ]
    },
    {
     "data": {
      "text/html": [
       "<div>\n",
       "<style scoped>\n",
       "    .dataframe tbody tr th:only-of-type {\n",
       "        vertical-align: middle;\n",
       "    }\n",
       "\n",
       "    .dataframe tbody tr th {\n",
       "        vertical-align: top;\n",
       "    }\n",
       "\n",
       "    .dataframe thead th {\n",
       "        text-align: right;\n",
       "    }\n",
       "</style>\n",
       "<table border=\"1\" class=\"dataframe\">\n",
       "  <thead>\n",
       "    <tr style=\"text-align: right;\">\n",
       "      <th></th>\n",
       "      <th>id</th>\n",
       "      <th>name</th>\n",
       "      <th>lastname</th>\n",
       "      <th>age</th>\n",
       "      <th>salary</th>\n",
       "      <th>contact</th>\n",
       "    </tr>\n",
       "  </thead>\n",
       "  <tbody>\n",
       "    <tr>\n",
       "      <th>0</th>\n",
       "      <td>1010</td>\n",
       "      <td>rahul</td>\n",
       "      <td>singh</td>\n",
       "      <td>22</td>\n",
       "      <td>25000</td>\n",
       "      <td>NaN</td>\n",
       "    </tr>\n",
       "    <tr>\n",
       "      <th>1</th>\n",
       "      <td>1012</td>\n",
       "      <td>tarun</td>\n",
       "      <td>sharma</td>\n",
       "      <td>35</td>\n",
       "      <td>35000</td>\n",
       "      <td>NaN</td>\n",
       "    </tr>\n",
       "    <tr>\n",
       "      <th>2</th>\n",
       "      <td>1014</td>\n",
       "      <td>esha</td>\n",
       "      <td>chadda</td>\n",
       "      <td>30</td>\n",
       "      <td>40000</td>\n",
       "      <td>NaN</td>\n",
       "    </tr>\n",
       "    <tr>\n",
       "      <th>3</th>\n",
       "      <td>1016</td>\n",
       "      <td>aman</td>\n",
       "      <td>sharma</td>\n",
       "      <td>50</td>\n",
       "      <td>25000</td>\n",
       "      <td>NaN</td>\n",
       "    </tr>\n",
       "    <tr>\n",
       "      <th>4</th>\n",
       "      <td>1020</td>\n",
       "      <td>amar</td>\n",
       "      <td>khuran</td>\n",
       "      <td>30</td>\n",
       "      <td>60000</td>\n",
       "      <td>NaN</td>\n",
       "    </tr>\n",
       "    <tr>\n",
       "      <th>5</th>\n",
       "      <td>1018</td>\n",
       "      <td>monu</td>\n",
       "      <td>gautam</td>\n",
       "      <td>40</td>\n",
       "      <td>40000</td>\n",
       "      <td>NaN</td>\n",
       "    </tr>\n",
       "    <tr>\n",
       "      <th>6</th>\n",
       "      <td>1022</td>\n",
       "      <td>harsh</td>\n",
       "      <td>sharma</td>\n",
       "      <td>28</td>\n",
       "      <td>65000</td>\n",
       "      <td>NaN</td>\n",
       "    </tr>\n",
       "    <tr>\n",
       "      <th>7</th>\n",
       "      <td>1022</td>\n",
       "      <td>bunty</td>\n",
       "      <td>singh</td>\n",
       "      <td>20</td>\n",
       "      <td>20000</td>\n",
       "      <td>NaN</td>\n",
       "    </tr>\n",
       "    <tr>\n",
       "      <th>8</th>\n",
       "      <td>2020</td>\n",
       "      <td>deepak</td>\n",
       "      <td>sharma</td>\n",
       "      <td>20</td>\n",
       "      <td>25000</td>\n",
       "      <td>121145.0</td>\n",
       "    </tr>\n",
       "    <tr>\n",
       "      <th>9</th>\n",
       "      <td>2022</td>\n",
       "      <td>sandeep</td>\n",
       "      <td>chauhan</td>\n",
       "      <td>35</td>\n",
       "      <td>30000</td>\n",
       "      <td>1212546.0</td>\n",
       "    </tr>\n",
       "    <tr>\n",
       "      <th>10</th>\n",
       "      <td>2028</td>\n",
       "      <td>sonu</td>\n",
       "      <td>chadda</td>\n",
       "      <td>45</td>\n",
       "      <td>45000</td>\n",
       "      <td>1211435.0</td>\n",
       "    </tr>\n",
       "    <tr>\n",
       "      <th>11</th>\n",
       "      <td>2026</td>\n",
       "      <td>harsh</td>\n",
       "      <td>chauhan</td>\n",
       "      <td>45</td>\n",
       "      <td>65000</td>\n",
       "      <td>1213645.0</td>\n",
       "    </tr>\n",
       "  </tbody>\n",
       "</table>\n",
       "</div>"
      ],
      "text/plain": [
       "      id     name lastname  age  salary    contact\n",
       "0   1010    rahul    singh   22   25000        NaN\n",
       "1   1012    tarun   sharma   35   35000        NaN\n",
       "2   1014     esha   chadda   30   40000        NaN\n",
       "3   1016     aman   sharma   50   25000        NaN\n",
       "4   1020     amar   khuran   30   60000        NaN\n",
       "5   1018     monu   gautam   40   40000        NaN\n",
       "6   1022    harsh   sharma   28   65000        NaN\n",
       "7   1022    bunty    singh   20   20000        NaN\n",
       "8   2020   deepak   sharma   20   25000   121145.0\n",
       "9   2022  sandeep  chauhan   35   30000  1212546.0\n",
       "10  2028     sonu   chadda   45   45000  1211435.0\n",
       "11  2026    harsh  chauhan   45   65000  1213645.0"
      ]
     },
     "execution_count": 4,
     "metadata": {},
     "output_type": "execute_result"
    }
   ],
   "source": [
    "db=sql.connect(host='localhost',user='root',password='Arun@7838@83',db='rkraj')\n",
    "df2=pd.read_sql_query(\"select * from empoly ;\",db)\n",
    "\n",
    "df2"
   ]
  },
  {
   "cell_type": "code",
   "execution_count": 5,
   "id": "53c0df9e",
   "metadata": {},
   "outputs": [
    {
     "name": "stdout",
     "output_type": "stream",
     "text": [
      "      Team  Rank  Year  Points\n",
      "0   Riders     1  2014     876\n",
      "1   Riders     2  2015     789\n",
      "2   Devils     2  2014     863\n",
      "3   Devils     3  2015     673\n",
      "4    Kings     3  2014     741\n",
      "5    kings     4  2015     812\n",
      "6    Kings     1  2016     756\n",
      "7    Kings     1  2017     788\n",
      "8   Riders     2  2016     694\n",
      "9   Royals     4  2014     701\n",
      "10  Royals     1  2015     804\n",
      "11  Riders     2  2017     690\n"
     ]
    }
   ],
   "source": [
    "import pandas as pd\n",
    "\n",
    "ipl_data = {'Team': ['Riders', 'Riders', 'Devils', 'Devils', 'Kings',\n",
    "         'kings', 'Kings', 'Kings', 'Riders', 'Royals', 'Royals', 'Riders'],\n",
    "         'Rank': [1, 2, 2, 3, 3,4 ,1 ,1,2 , 4,1,2],\n",
    "         'Year': [2014,2015,2014,2015,2014,2015,2016,2017,2016,2014,2015,2017],\n",
    "         'Points':[876,789,863,673,741,812,756,788,694,701,804,690]}\n",
    "df = pd.DataFrame(ipl_data)\n",
    "\n",
    "print (df)"
   ]
  },
  {
   "cell_type": "markdown",
   "id": "74c3e9d2",
   "metadata": {},
   "source": [
    "missing  value  handling in dataset:--"
   ]
  },
  {
   "cell_type": "code",
   "execution_count": 6,
   "id": "7646d3f4",
   "metadata": {},
   "outputs": [
    {
     "data": {
      "text/plain": [
       "array([ 4.,  5.,  6.,  7., nan, 99., nan])"
      ]
     },
     "execution_count": 6,
     "metadata": {},
     "output_type": "execute_result"
    }
   ],
   "source": [
    "s=np.array([4,5,6,7,np.nan,99,np.nan])\n",
    "s"
   ]
  },
  {
   "cell_type": "code",
   "execution_count": 7,
   "id": "8d149f7d",
   "metadata": {},
   "outputs": [],
   "source": [
    " # Q kya kya sum nai kar sakte ?"
   ]
  },
  {
   "cell_type": "code",
   "execution_count": 8,
   "id": "26b5e9b8",
   "metadata": {},
   "outputs": [
    {
     "data": {
      "text/plain": [
       "nan"
      ]
     },
     "execution_count": 8,
     "metadata": {},
     "output_type": "execute_result"
    }
   ],
   "source": [
    "sum(s)"
   ]
  },
  {
   "cell_type": "markdown",
   "id": "053c919a",
   "metadata": {},
   "source": [
    "SUB HEADING \n",
    "# fillna\n",
    "# dropna\n",
    "# how\n",
    "# any\n",
    "# all\n",
    "# bfill\n",
    "# ffill\n",
    "# replace\n",
    "# interpulation\n",
    "# isnull"
   ]
  },
  {
   "cell_type": "code",
   "execution_count": 9,
   "id": "4a6baac6",
   "metadata": {
    "scrolled": true
   },
   "outputs": [
    {
     "data": {
      "text/html": [
       "<div>\n",
       "<style scoped>\n",
       "    .dataframe tbody tr th:only-of-type {\n",
       "        vertical-align: middle;\n",
       "    }\n",
       "\n",
       "    .dataframe tbody tr th {\n",
       "        vertical-align: top;\n",
       "    }\n",
       "\n",
       "    .dataframe thead th {\n",
       "        text-align: right;\n",
       "    }\n",
       "</style>\n",
       "<table border=\"1\" class=\"dataframe\">\n",
       "  <thead>\n",
       "    <tr style=\"text-align: right;\">\n",
       "      <th></th>\n",
       "      <th>ID</th>\n",
       "      <th>Name</th>\n",
       "      <th>Industry</th>\n",
       "      <th>Inception</th>\n",
       "      <th>Revenue</th>\n",
       "      <th>Expenses</th>\n",
       "      <th>Profit</th>\n",
       "      <th>Growth</th>\n",
       "      <th>Salary</th>\n",
       "    </tr>\n",
       "  </thead>\n",
       "  <tbody>\n",
       "    <tr>\n",
       "      <th>0</th>\n",
       "      <td>1.0</td>\n",
       "      <td>Lamtone</td>\n",
       "      <td>IT Services</td>\n",
       "      <td>2009.0</td>\n",
       "      <td>$11,757,018</td>\n",
       "      <td>6,482,465 Dollars</td>\n",
       "      <td>5274553.0</td>\n",
       "      <td>0.30</td>\n",
       "      <td>NaN</td>\n",
       "    </tr>\n",
       "    <tr>\n",
       "      <th>1</th>\n",
       "      <td>2.0</td>\n",
       "      <td>Stripfind</td>\n",
       "      <td>Financial Services</td>\n",
       "      <td>2010.0</td>\n",
       "      <td>$12,329,371</td>\n",
       "      <td>916,455 Dollars</td>\n",
       "      <td>11412916.0</td>\n",
       "      <td>NaN</td>\n",
       "      <td>NaN</td>\n",
       "    </tr>\n",
       "    <tr>\n",
       "      <th>2</th>\n",
       "      <td>3.0</td>\n",
       "      <td>Canecorporation</td>\n",
       "      <td>Health</td>\n",
       "      <td>2012.0</td>\n",
       "      <td>$10,597,009</td>\n",
       "      <td>NaN</td>\n",
       "      <td>3005820.0</td>\n",
       "      <td>NaN</td>\n",
       "      <td>NaN</td>\n",
       "    </tr>\n",
       "    <tr>\n",
       "      <th>3</th>\n",
       "      <td>4.0</td>\n",
       "      <td>NaN</td>\n",
       "      <td>IT Services</td>\n",
       "      <td>2013.0</td>\n",
       "      <td>NaN</td>\n",
       "      <td>7,429,377 Dollars</td>\n",
       "      <td>6597557.0</td>\n",
       "      <td>NaN</td>\n",
       "      <td>NaN</td>\n",
       "    </tr>\n",
       "    <tr>\n",
       "      <th>4</th>\n",
       "      <td>5.0</td>\n",
       "      <td>NaN</td>\n",
       "      <td>NaN</td>\n",
       "      <td>NaN</td>\n",
       "      <td>NaN</td>\n",
       "      <td>7,435,363 Dollars</td>\n",
       "      <td>3138627.0</td>\n",
       "      <td>NaN</td>\n",
       "      <td>NaN</td>\n",
       "    </tr>\n",
       "    <tr>\n",
       "      <th>5</th>\n",
       "      <td>6.0</td>\n",
       "      <td>Techline</td>\n",
       "      <td>Health</td>\n",
       "      <td>2006.0</td>\n",
       "      <td>NaN</td>\n",
       "      <td>5,470,303 Dollars</td>\n",
       "      <td>8427816.0</td>\n",
       "      <td>0.23</td>\n",
       "      <td>NaN</td>\n",
       "    </tr>\n",
       "    <tr>\n",
       "      <th>6</th>\n",
       "      <td>7.0</td>\n",
       "      <td>Cityace</td>\n",
       "      <td>NaN</td>\n",
       "      <td>2010.0</td>\n",
       "      <td>$9,254,614</td>\n",
       "      <td>NaN</td>\n",
       "      <td>3005116.0</td>\n",
       "      <td>0.06</td>\n",
       "      <td>NaN</td>\n",
       "    </tr>\n",
       "    <tr>\n",
       "      <th>7</th>\n",
       "      <td>8.0</td>\n",
       "      <td>Kayelectronics</td>\n",
       "      <td>NaN</td>\n",
       "      <td>2009.0</td>\n",
       "      <td>$9,451,943</td>\n",
       "      <td>3,878,113 Dollars</td>\n",
       "      <td>5573830.0</td>\n",
       "      <td>0.04</td>\n",
       "      <td>NaN</td>\n",
       "    </tr>\n",
       "    <tr>\n",
       "      <th>8</th>\n",
       "      <td>9.0</td>\n",
       "      <td>Ganzlax</td>\n",
       "      <td>IT Services</td>\n",
       "      <td>2011.0</td>\n",
       "      <td>$14,001,180</td>\n",
       "      <td>NaN</td>\n",
       "      <td>11901180.0</td>\n",
       "      <td>0.18</td>\n",
       "      <td>NaN</td>\n",
       "    </tr>\n",
       "    <tr>\n",
       "      <th>9</th>\n",
       "      <td>NaN</td>\n",
       "      <td>NaN</td>\n",
       "      <td>NaN</td>\n",
       "      <td>NaN</td>\n",
       "      <td>NaN</td>\n",
       "      <td>NaN</td>\n",
       "      <td>NaN</td>\n",
       "      <td>NaN</td>\n",
       "      <td>NaN</td>\n",
       "    </tr>\n",
       "  </tbody>\n",
       "</table>\n",
       "</div>"
      ],
      "text/plain": [
       "    ID             Name            Industry  Inception       Revenue  \\\n",
       "0  1.0          Lamtone         IT Services     2009.0  $11,757,018    \n",
       "1  2.0        Stripfind  Financial Services     2010.0  $12,329,371    \n",
       "2  3.0  Canecorporation              Health     2012.0  $10,597,009    \n",
       "3  4.0              NaN         IT Services     2013.0           NaN   \n",
       "4  5.0              NaN                 NaN        NaN           NaN   \n",
       "5  6.0         Techline              Health     2006.0           NaN   \n",
       "6  7.0          Cityace                 NaN     2010.0   $9,254,614    \n",
       "7  8.0   Kayelectronics                 NaN     2009.0   $9,451,943    \n",
       "8  9.0          Ganzlax         IT Services     2011.0  $14,001,180    \n",
       "9  NaN              NaN                 NaN        NaN           NaN   \n",
       "\n",
       "            Expenses      Profit  Growth  Salary  \n",
       "0  6,482,465 Dollars   5274553.0    0.30     NaN  \n",
       "1    916,455 Dollars  11412916.0     NaN     NaN  \n",
       "2                NaN   3005820.0     NaN     NaN  \n",
       "3  7,429,377 Dollars   6597557.0     NaN     NaN  \n",
       "4  7,435,363 Dollars   3138627.0     NaN     NaN  \n",
       "5  5,470,303 Dollars   8427816.0    0.23     NaN  \n",
       "6                NaN   3005116.0    0.06     NaN  \n",
       "7  3,878,113 Dollars   5573830.0    0.04     NaN  \n",
       "8                NaN  11901180.0    0.18     NaN  \n",
       "9                NaN         NaN     NaN     NaN  "
      ]
     },
     "execution_count": 9,
     "metadata": {},
     "output_type": "execute_result"
    }
   ],
   "source": [
    "df8=pd.read_excel(\"C:\\\\Users\\\\rahul\\\\Downloads\\\\DATA12.xlsx\")\n",
    "df8"
   ]
  },
  {
   "cell_type": "code",
   "execution_count": 10,
   "id": "d5ecb45d",
   "metadata": {},
   "outputs": [
    {
     "data": {
      "text/plain": [
       "(10, 9)"
      ]
     },
     "execution_count": 10,
     "metadata": {},
     "output_type": "execute_result"
    }
   ],
   "source": [
    "df8.shape"
   ]
  },
  {
   "cell_type": "code",
   "execution_count": 11,
   "id": "7178bd43",
   "metadata": {},
   "outputs": [
    {
     "data": {
      "text/plain": [
       "0    8\n",
       "1    7\n",
       "2    6\n",
       "3    5\n",
       "4    3\n",
       "5    7\n",
       "6    6\n",
       "7    7\n",
       "8    7\n",
       "9    0\n",
       "dtype: int64"
      ]
     },
     "execution_count": 11,
     "metadata": {},
     "output_type": "execute_result"
    }
   ],
   "source": [
    "df8.count(\"columns\") \n",
    "\n",
    "# Columns me kitna data fill hai ke nahi hai"
   ]
  },
  {
   "cell_type": "code",
   "execution_count": 12,
   "id": "25e50035",
   "metadata": {
    "scrolled": true
   },
   "outputs": [
    {
     "data": {
      "text/plain": [
       "ID           9\n",
       "Name         7\n",
       "Industry     6\n",
       "Inception    8\n",
       "Revenue      6\n",
       "Expenses     6\n",
       "Profit       9\n",
       "Growth       5\n",
       "Salary       0\n",
       "dtype: int64"
      ]
     },
     "execution_count": 12,
     "metadata": {},
     "output_type": "execute_result"
    }
   ],
   "source": [
    "df8.count(\"rows\")\n",
    "\n",
    "# Rows me kitna data fill hai ke nahi hai"
   ]
  },
  {
   "cell_type": "code",
   "execution_count": 13,
   "id": "6716c831",
   "metadata": {
    "scrolled": true
   },
   "outputs": [
    {
     "data": {
      "text/plain": [
       "ID            1\n",
       "Name          3\n",
       "Industry      4\n",
       "Inception     2\n",
       "Revenue       4\n",
       "Expenses      4\n",
       "Profit        1\n",
       "Growth        5\n",
       "Salary       10\n",
       "dtype: int64"
      ]
     },
     "execution_count": 13,
     "metadata": {},
     "output_type": "execute_result"
    }
   ],
   "source": [
    "df8.isnull().sum()\n",
    "\n",
    "\n",
    "\n",
    "\n",
    "# Ex...Id , Name , Industry   esme count karega ki kitne Null vaule hai  \n"
   ]
  },
  {
   "cell_type": "code",
   "execution_count": 14,
   "id": "704bc4dd",
   "metadata": {},
   "outputs": [],
   "source": [
    "df8.drop(['Salary'],axis=1,inplace=True)\n",
    "\n",
    "#  inplace parmanent Data/Row   karta hai \n",
    "\n"
   ]
  },
  {
   "cell_type": "code",
   "execution_count": 15,
   "id": "a787ae6e",
   "metadata": {},
   "outputs": [
    {
     "data": {
      "text/html": [
       "<div>\n",
       "<style scoped>\n",
       "    .dataframe tbody tr th:only-of-type {\n",
       "        vertical-align: middle;\n",
       "    }\n",
       "\n",
       "    .dataframe tbody tr th {\n",
       "        vertical-align: top;\n",
       "    }\n",
       "\n",
       "    .dataframe thead th {\n",
       "        text-align: right;\n",
       "    }\n",
       "</style>\n",
       "<table border=\"1\" class=\"dataframe\">\n",
       "  <thead>\n",
       "    <tr style=\"text-align: right;\">\n",
       "      <th></th>\n",
       "      <th>ID</th>\n",
       "      <th>Name</th>\n",
       "      <th>Industry</th>\n",
       "      <th>Inception</th>\n",
       "      <th>Revenue</th>\n",
       "      <th>Expenses</th>\n",
       "      <th>Profit</th>\n",
       "      <th>Growth</th>\n",
       "    </tr>\n",
       "  </thead>\n",
       "  <tbody>\n",
       "    <tr>\n",
       "      <th>0</th>\n",
       "      <td>1.0</td>\n",
       "      <td>Lamtone</td>\n",
       "      <td>IT Services</td>\n",
       "      <td>2009.0</td>\n",
       "      <td>$11,757,018</td>\n",
       "      <td>6,482,465 Dollars</td>\n",
       "      <td>5274553.0</td>\n",
       "      <td>0.30</td>\n",
       "    </tr>\n",
       "    <tr>\n",
       "      <th>1</th>\n",
       "      <td>2.0</td>\n",
       "      <td>Stripfind</td>\n",
       "      <td>Financial Services</td>\n",
       "      <td>2010.0</td>\n",
       "      <td>$12,329,371</td>\n",
       "      <td>916,455 Dollars</td>\n",
       "      <td>11412916.0</td>\n",
       "      <td>NaN</td>\n",
       "    </tr>\n",
       "    <tr>\n",
       "      <th>2</th>\n",
       "      <td>3.0</td>\n",
       "      <td>Canecorporation</td>\n",
       "      <td>Health</td>\n",
       "      <td>2012.0</td>\n",
       "      <td>$10,597,009</td>\n",
       "      <td>NaN</td>\n",
       "      <td>3005820.0</td>\n",
       "      <td>NaN</td>\n",
       "    </tr>\n",
       "    <tr>\n",
       "      <th>3</th>\n",
       "      <td>4.0</td>\n",
       "      <td>NaN</td>\n",
       "      <td>IT Services</td>\n",
       "      <td>2013.0</td>\n",
       "      <td>NaN</td>\n",
       "      <td>7,429,377 Dollars</td>\n",
       "      <td>6597557.0</td>\n",
       "      <td>NaN</td>\n",
       "    </tr>\n",
       "    <tr>\n",
       "      <th>4</th>\n",
       "      <td>5.0</td>\n",
       "      <td>NaN</td>\n",
       "      <td>NaN</td>\n",
       "      <td>NaN</td>\n",
       "      <td>NaN</td>\n",
       "      <td>7,435,363 Dollars</td>\n",
       "      <td>3138627.0</td>\n",
       "      <td>NaN</td>\n",
       "    </tr>\n",
       "    <tr>\n",
       "      <th>5</th>\n",
       "      <td>6.0</td>\n",
       "      <td>Techline</td>\n",
       "      <td>Health</td>\n",
       "      <td>2006.0</td>\n",
       "      <td>NaN</td>\n",
       "      <td>5,470,303 Dollars</td>\n",
       "      <td>8427816.0</td>\n",
       "      <td>0.23</td>\n",
       "    </tr>\n",
       "    <tr>\n",
       "      <th>6</th>\n",
       "      <td>7.0</td>\n",
       "      <td>Cityace</td>\n",
       "      <td>NaN</td>\n",
       "      <td>2010.0</td>\n",
       "      <td>$9,254,614</td>\n",
       "      <td>NaN</td>\n",
       "      <td>3005116.0</td>\n",
       "      <td>0.06</td>\n",
       "    </tr>\n",
       "    <tr>\n",
       "      <th>7</th>\n",
       "      <td>8.0</td>\n",
       "      <td>Kayelectronics</td>\n",
       "      <td>NaN</td>\n",
       "      <td>2009.0</td>\n",
       "      <td>$9,451,943</td>\n",
       "      <td>3,878,113 Dollars</td>\n",
       "      <td>5573830.0</td>\n",
       "      <td>0.04</td>\n",
       "    </tr>\n",
       "    <tr>\n",
       "      <th>8</th>\n",
       "      <td>9.0</td>\n",
       "      <td>Ganzlax</td>\n",
       "      <td>IT Services</td>\n",
       "      <td>2011.0</td>\n",
       "      <td>$14,001,180</td>\n",
       "      <td>NaN</td>\n",
       "      <td>11901180.0</td>\n",
       "      <td>0.18</td>\n",
       "    </tr>\n",
       "    <tr>\n",
       "      <th>9</th>\n",
       "      <td>NaN</td>\n",
       "      <td>NaN</td>\n",
       "      <td>NaN</td>\n",
       "      <td>NaN</td>\n",
       "      <td>NaN</td>\n",
       "      <td>NaN</td>\n",
       "      <td>NaN</td>\n",
       "      <td>NaN</td>\n",
       "    </tr>\n",
       "  </tbody>\n",
       "</table>\n",
       "</div>"
      ],
      "text/plain": [
       "    ID             Name            Industry  Inception       Revenue  \\\n",
       "0  1.0          Lamtone         IT Services     2009.0  $11,757,018    \n",
       "1  2.0        Stripfind  Financial Services     2010.0  $12,329,371    \n",
       "2  3.0  Canecorporation              Health     2012.0  $10,597,009    \n",
       "3  4.0              NaN         IT Services     2013.0           NaN   \n",
       "4  5.0              NaN                 NaN        NaN           NaN   \n",
       "5  6.0         Techline              Health     2006.0           NaN   \n",
       "6  7.0          Cityace                 NaN     2010.0   $9,254,614    \n",
       "7  8.0   Kayelectronics                 NaN     2009.0   $9,451,943    \n",
       "8  9.0          Ganzlax         IT Services     2011.0  $14,001,180    \n",
       "9  NaN              NaN                 NaN        NaN           NaN   \n",
       "\n",
       "            Expenses      Profit  Growth  \n",
       "0  6,482,465 Dollars   5274553.0    0.30  \n",
       "1    916,455 Dollars  11412916.0     NaN  \n",
       "2                NaN   3005820.0     NaN  \n",
       "3  7,429,377 Dollars   6597557.0     NaN  \n",
       "4  7,435,363 Dollars   3138627.0     NaN  \n",
       "5  5,470,303 Dollars   8427816.0    0.23  \n",
       "6                NaN   3005116.0    0.06  \n",
       "7  3,878,113 Dollars   5573830.0    0.04  \n",
       "8                NaN  11901180.0    0.18  \n",
       "9                NaN         NaN     NaN  "
      ]
     },
     "execution_count": 15,
     "metadata": {},
     "output_type": "execute_result"
    }
   ],
   "source": [
    "df8"
   ]
  },
  {
   "cell_type": "code",
   "execution_count": 16,
   "id": "d4c2d5d6",
   "metadata": {},
   "outputs": [
    {
     "data": {
      "text/plain": [
       "(10, 8)"
      ]
     },
     "execution_count": 16,
     "metadata": {},
     "output_type": "execute_result"
    }
   ],
   "source": [
    "df8.shape"
   ]
  },
  {
   "cell_type": "code",
   "execution_count": 17,
   "id": "8864ec70",
   "metadata": {
    "scrolled": true
   },
   "outputs": [
    {
     "data": {
      "text/html": [
       "<div>\n",
       "<style scoped>\n",
       "    .dataframe tbody tr th:only-of-type {\n",
       "        vertical-align: middle;\n",
       "    }\n",
       "\n",
       "    .dataframe tbody tr th {\n",
       "        vertical-align: top;\n",
       "    }\n",
       "\n",
       "    .dataframe thead th {\n",
       "        text-align: right;\n",
       "    }\n",
       "</style>\n",
       "<table border=\"1\" class=\"dataframe\">\n",
       "  <thead>\n",
       "    <tr style=\"text-align: right;\">\n",
       "      <th></th>\n",
       "      <th>ID</th>\n",
       "      <th>Name</th>\n",
       "      <th>Industry</th>\n",
       "      <th>Inception</th>\n",
       "      <th>Revenue</th>\n",
       "      <th>Expenses</th>\n",
       "      <th>Profit</th>\n",
       "      <th>Growth</th>\n",
       "    </tr>\n",
       "  </thead>\n",
       "  <tbody>\n",
       "    <tr>\n",
       "      <th>0</th>\n",
       "      <td>1.0</td>\n",
       "      <td>Lamtone</td>\n",
       "      <td>IT Services</td>\n",
       "      <td>2009.0</td>\n",
       "      <td>$11,757,018</td>\n",
       "      <td>6,482,465 Dollars</td>\n",
       "      <td>5274553.0</td>\n",
       "      <td>0.30</td>\n",
       "    </tr>\n",
       "    <tr>\n",
       "      <th>1</th>\n",
       "      <td>2.0</td>\n",
       "      <td>Stripfind</td>\n",
       "      <td>Financial Services</td>\n",
       "      <td>2010.0</td>\n",
       "      <td>$12,329,371</td>\n",
       "      <td>916,455 Dollars</td>\n",
       "      <td>11412916.0</td>\n",
       "      <td>NaN</td>\n",
       "    </tr>\n",
       "    <tr>\n",
       "      <th>2</th>\n",
       "      <td>3.0</td>\n",
       "      <td>Canecorporation</td>\n",
       "      <td>Health</td>\n",
       "      <td>2012.0</td>\n",
       "      <td>$10,597,009</td>\n",
       "      <td>NaN</td>\n",
       "      <td>3005820.0</td>\n",
       "      <td>NaN</td>\n",
       "    </tr>\n",
       "    <tr>\n",
       "      <th>3</th>\n",
       "      <td>4.0</td>\n",
       "      <td>NaN</td>\n",
       "      <td>IT Services</td>\n",
       "      <td>2013.0</td>\n",
       "      <td>NaN</td>\n",
       "      <td>7,429,377 Dollars</td>\n",
       "      <td>6597557.0</td>\n",
       "      <td>NaN</td>\n",
       "    </tr>\n",
       "    <tr>\n",
       "      <th>4</th>\n",
       "      <td>5.0</td>\n",
       "      <td>NaN</td>\n",
       "      <td>NaN</td>\n",
       "      <td>NaN</td>\n",
       "      <td>NaN</td>\n",
       "      <td>7,435,363 Dollars</td>\n",
       "      <td>3138627.0</td>\n",
       "      <td>NaN</td>\n",
       "    </tr>\n",
       "    <tr>\n",
       "      <th>5</th>\n",
       "      <td>6.0</td>\n",
       "      <td>Techline</td>\n",
       "      <td>Health</td>\n",
       "      <td>2006.0</td>\n",
       "      <td>NaN</td>\n",
       "      <td>5,470,303 Dollars</td>\n",
       "      <td>8427816.0</td>\n",
       "      <td>0.23</td>\n",
       "    </tr>\n",
       "    <tr>\n",
       "      <th>6</th>\n",
       "      <td>7.0</td>\n",
       "      <td>Cityace</td>\n",
       "      <td>NaN</td>\n",
       "      <td>2010.0</td>\n",
       "      <td>$9,254,614</td>\n",
       "      <td>NaN</td>\n",
       "      <td>3005116.0</td>\n",
       "      <td>0.06</td>\n",
       "    </tr>\n",
       "    <tr>\n",
       "      <th>7</th>\n",
       "      <td>8.0</td>\n",
       "      <td>Kayelectronics</td>\n",
       "      <td>NaN</td>\n",
       "      <td>2009.0</td>\n",
       "      <td>$9,451,943</td>\n",
       "      <td>3,878,113 Dollars</td>\n",
       "      <td>5573830.0</td>\n",
       "      <td>0.04</td>\n",
       "    </tr>\n",
       "    <tr>\n",
       "      <th>8</th>\n",
       "      <td>9.0</td>\n",
       "      <td>Ganzlax</td>\n",
       "      <td>IT Services</td>\n",
       "      <td>2011.0</td>\n",
       "      <td>$14,001,180</td>\n",
       "      <td>NaN</td>\n",
       "      <td>11901180.0</td>\n",
       "      <td>0.18</td>\n",
       "    </tr>\n",
       "  </tbody>\n",
       "</table>\n",
       "</div>"
      ],
      "text/plain": [
       "    ID             Name            Industry  Inception       Revenue  \\\n",
       "0  1.0          Lamtone         IT Services     2009.0  $11,757,018    \n",
       "1  2.0        Stripfind  Financial Services     2010.0  $12,329,371    \n",
       "2  3.0  Canecorporation              Health     2012.0  $10,597,009    \n",
       "3  4.0              NaN         IT Services     2013.0           NaN   \n",
       "4  5.0              NaN                 NaN        NaN           NaN   \n",
       "5  6.0         Techline              Health     2006.0           NaN   \n",
       "6  7.0          Cityace                 NaN     2010.0   $9,254,614    \n",
       "7  8.0   Kayelectronics                 NaN     2009.0   $9,451,943    \n",
       "8  9.0          Ganzlax         IT Services     2011.0  $14,001,180    \n",
       "\n",
       "            Expenses      Profit  Growth  \n",
       "0  6,482,465 Dollars   5274553.0    0.30  \n",
       "1    916,455 Dollars  11412916.0     NaN  \n",
       "2                NaN   3005820.0     NaN  \n",
       "3  7,429,377 Dollars   6597557.0     NaN  \n",
       "4  7,435,363 Dollars   3138627.0     NaN  \n",
       "5  5,470,303 Dollars   8427816.0    0.23  \n",
       "6                NaN   3005116.0    0.06  \n",
       "7  3,878,113 Dollars   5573830.0    0.04  \n",
       "8                NaN  11901180.0    0.18  "
      ]
     },
     "execution_count": 17,
     "metadata": {},
     "output_type": "execute_result"
    }
   ],
   "source": [
    "df8.dropna(how='all')\n",
    "\n",
    "# Row me sabse jada null value hogi use delete karta hai   dropna   with all"
   ]
  },
  {
   "cell_type": "code",
   "execution_count": null,
   "id": "0477a772",
   "metadata": {},
   "outputs": [],
   "source": [
    "# df8.dropna(how='any')\n",
    "\n",
    "#  row / Columns   me  1 single null value mila   to use pu "
   ]
  },
  {
   "cell_type": "code",
   "execution_count": 18,
   "id": "68958b5c",
   "metadata": {},
   "outputs": [
    {
     "data": {
      "text/plain": [
       "ID           10.0\n",
       "Name         30.0\n",
       "Industry     40.0\n",
       "Inception    20.0\n",
       "Revenue      40.0\n",
       "Expenses     40.0\n",
       "Profit       10.0\n",
       "Growth       50.0\n",
       "dtype: float64"
      ]
     },
     "execution_count": 18,
     "metadata": {},
     "output_type": "execute_result"
    }
   ],
   "source": [
    "# agar hame dekhna hai  80% / 90%   se upper null value  ka % percentage \n",
    "\n",
    "\n",
    "df8.isnull().sum()/len(df8)*100"
   ]
  },
  {
   "cell_type": "code",
   "execution_count": 19,
   "id": "e7edf99d",
   "metadata": {},
   "outputs": [],
   "source": [
    "#  continue pandas [9]"
   ]
  },
  {
   "cell_type": "code",
   "execution_count": null,
   "id": "94dae653",
   "metadata": {},
   "outputs": [],
   "source": []
  }
 ],
 "metadata": {
  "kernelspec": {
   "display_name": "Python 3 (ipykernel)",
   "language": "python",
   "name": "python3"
  },
  "language_info": {
   "codemirror_mode": {
    "name": "ipython",
    "version": 3
   },
   "file_extension": ".py",
   "mimetype": "text/x-python",
   "name": "python",
   "nbconvert_exporter": "python",
   "pygments_lexer": "ipython3",
   "version": "3.11.5"
  }
 },
 "nbformat": 4,
 "nbformat_minor": 5
}
